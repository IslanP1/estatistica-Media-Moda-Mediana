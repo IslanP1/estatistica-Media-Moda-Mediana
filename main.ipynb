{
  "cells": [
    {
      "cell_type": "markdown",
      "id": "f9292eb8-c6d0-4d02-92ce-b2594e50d917",
      "metadata": {
        "id": "f9292eb8-c6d0-4d02-92ce-b2594e50d917"
      },
      "source": [
        "# Atividade 02 - Laboratório\n",
        "\n",
        "Dado um conjunto definimos a moda como o valor mais observado.\n",
        "Nas células a seguir usamos o método `count` de listas (que conta\n",
        "a quantidade de vezes que o valor passado como argumento\n",
        "aparece na lista) para descobrir a moda."
      ]
    },
    {
      "cell_type": "code",
      "execution_count": 177,
      "id": "86566e0d-db55-4ea1-bf97-c3f2716e284f",
      "metadata": {
        "colab": {
          "base_uri": "https://localhost:8080/"
        },
        "id": "86566e0d-db55-4ea1-bf97-c3f2716e284f",
        "outputId": "0658f229-0d30-4780-917d-4c25c5ee3c97"
      },
      "outputs": [
        {
          "name": "stdout",
          "output_type": "stream",
          "text": [
            "[8, 7, 4, 2, 5, 4, 7, 3, 4, 5, 9, 5, 2, 7, 6, 2, 9, 9, 8, 9]\n",
            "3\n"
          ]
        }
      ],
      "source": [
        "import random\n",
        "\n",
        "random.seed(0)\n",
        "\n",
        "l = random.choices(range(10), k = 20)\n",
        "\n",
        "print(l)\n",
        "print(l.count(2))"
      ]
    },
    {
      "cell_type": "markdown",
      "id": "58004c78-ef20-4308-bbea-366eb7b65600",
      "metadata": {
        "id": "58004c78-ef20-4308-bbea-366eb7b65600"
      },
      "source": [
        "Para contabilizarmos a quantidade de vezes que cada um dos valores aparece na lista vamos guardar esses dados em uma lista de tuplas cujos elementos são da forma `(n, fn)`,\n",
        "onde `n` é o número na lista e `fn` é a quantidade de vezes que `n` aparece na lista `l`."
      ]
    },
    {
      "cell_type": "code",
      "execution_count": 178,
      "id": "057fd8de-ba71-464d-8af0-ef5c308e8561",
      "metadata": {
        "id": "057fd8de-ba71-464d-8af0-ef5c308e8561"
      },
      "outputs": [],
      "source": [
        "freq = [ (numero, l.count(numero)) for numero in set(l) ]"
      ]
    },
    {
      "cell_type": "markdown",
      "id": "5a75b87c-dfa8-43c5-94ae-ccfb19152ba8",
      "metadata": {
        "id": "5a75b87c-dfa8-43c5-94ae-ccfb19152ba8"
      },
      "source": [
        "Agora iremos ordenar a lista de acordo com a quantidade de elementos de cada item, ou seja, usando o segundo elemento da tupla."
      ]
    },
    {
      "cell_type": "code",
      "execution_count": 179,
      "id": "4dec8c1a-1a28-48f3-83b4-4d08efe83ce3",
      "metadata": {
        "id": "4dec8c1a-1a28-48f3-83b4-4d08efe83ce3",
        "outputId": "e94db834-d822-41fc-983e-95beb210e58e"
      },
      "outputs": [
        {
          "name": "stdout",
          "output_type": "stream",
          "text": [
            "A moda é 9\n"
          ]
        }
      ],
      "source": [
        "freq.sort(key = lambda par: par[1])\n",
        "freq\n",
        "print(\"A moda é\", freq[-1][0])"
      ]
    },
    {
      "cell_type": "markdown",
      "id": "fc6e9e1e-4a9c-4e6a-8912-4243ffe7e0c4",
      "metadata": {
        "id": "fc6e9e1e-4a9c-4e6a-8912-4243ffe7e0c4"
      },
      "source": [
        "O método que usamos tem um problema: ele não capta os casos em que:\n",
        "* Não há modas (isto é, todos os valores aparecem uma única vez)\n",
        "* Há mais de uma moda (mais de um valor aparece com o número máximo de vezes)\n",
        "\n",
        "#### Exercício 1\n",
        "\n",
        "Adapte o código acima para detectar casos em que a população é amodal (sem modas) ou multimodal (mais de uma moda). Teste que com as listas a seguir."
      ]
    },
    {
      "cell_type": "code",
      "execution_count": 180,
      "id": "040e0795-ca8e-426c-aabd-a7b1639e3886",
      "metadata": {
        "colab": {
          "base_uri": "https://localhost:8080/"
        },
        "id": "040e0795-ca8e-426c-aabd-a7b1639e3886",
        "outputId": "fa7ac46b-2e7b-4d2a-fac2-d36b649b6908"
      },
      "outputs": [
        {
          "name": "stdout",
          "output_type": "stream",
          "text": [
            "As modas da lista são: [5, 6, 8]\n"
          ]
        }
      ],
      "source": [
        "l_trimodal = [8, 5, 9, 6, 5, 4, 3, 5, 2, 1, 1, 6, 6, 4, 0, 7, 8, 9, 8]\n",
        "\n",
        "freq = [(numero, l_trimodal.count(numero)) for numero in set(l_trimodal)]\n",
        "\n",
        "freq.sort(key=lambda par: par[1], reverse=True)\n",
        "\n",
        "maior_frequencia = freq[0][1]\n",
        "\n",
        "modas = []\n",
        "\n",
        "for numero, frequencia in freq:\n",
        "    if frequencia == maior_frequencia:\n",
        "        modas.append(numero)\n",
        "    else:\n",
        "        break\n",
        "\n",
        "print(\"As modas da lista são:\", modas)"
      ]
    },
    {
      "cell_type": "code",
      "execution_count": 181,
      "id": "9B-3GBvAa7Dm",
      "metadata": {
        "colab": {
          "base_uri": "https://localhost:8080/"
        },
        "id": "9B-3GBvAa7Dm",
        "outputId": "f8d2bcd4-773e-4ec0-b543-56d90bdb122f"
      },
      "outputs": [
        {
          "name": "stdout",
          "output_type": "stream",
          "text": [
            "A lista é amodal\n"
          ]
        }
      ],
      "source": [
        "l_amodal = [9, 5, 2, 7, 12, 8, 4, 0, 3]\n",
        "\n",
        "freq = [(numero, l_amodal.count(numero)) for numero in set(l_amodal)]\n",
        "\n",
        "freq.sort(key=lambda par: par[1], reverse=True)\n",
        "\n",
        "maior_frequencia = freq[0][1]\n",
        "\n",
        "modas = []\n",
        "\n",
        "for numero, frequencia in freq:\n",
        "    if frequencia == maior_frequencia:\n",
        "        modas.append(numero)\n",
        "    else:\n",
        "        break\n",
        "\n",
        "cont = 0\n",
        "for elemento in l_amodal:\n",
        "    if elemento in modas:\n",
        "        cont += 1\n",
        "\n",
        "if cont == len(l_amodal):\n",
        "    print(\"A lista é amodal\")\n",
        "else:\n",
        "    print(\"As modas da lista são:\", modas)"
      ]
    },
    {
      "cell_type": "markdown",
      "id": "1f1c1bee-5e0a-46b7-9642-2513e364e7ac",
      "metadata": {
        "id": "1f1c1bee-5e0a-46b7-9642-2513e364e7ac"
      },
      "source": [
        "## Moda para dados agrupados em classes\n",
        "\n",
        "O cálculo da moda como fizemos acima funciona  para dados categóricos\n",
        "ou discretos com poucos valores possíveis. Como discutimos na construção das\n",
        "tabelas de frequência, no caso de dados numéricos discretos com muitos valores possíveis ou\n",
        "numéricos contínuos, costumamos trabalhar com classes (intervalos). Também para a moda, a aplicação direta do conceito para tais tipos de dados não é recomendada e no seu lugar usamos definições alternativas da moda. Nos exercícios iremos apresentar diversas formas alternativas de se definir a moda e você deve implementar tais definições.\n",
        "\n",
        "### Ponto médio da classe modal\n",
        "\n",
        "Se nosso dados estão divididos em classes com uma tabela de frequência dada por\n",
        "| Classe | Freq. |\n",
        "| - | - |\n",
        "|$i_1 \\vdash i_2$ |  $n_1$ |\n",
        "|$i_2 \\vdash i_3$ |  $n_2$ |\n",
        "| ... |... |\n",
        "|$i_k \\vdash i_{k+1}$ |  $n_k$ |\n",
        "\n",
        "A forma mais simples de se definir a moda seria o ponto médio da classe modal. A classe modal é a classe com a maior frequência. Assim, se $j$ é o índice da classe com a maior\n",
        "frequência a classe modal seria a $j$-ésima, isto é, $i_j \\vdash i_{j+1}$. E a moda seria\n",
        "o ponto médio dessa classe, ou seja\n",
        "$$\n",
        "    \\frac{i_{j+1} + i_j}{2}\n",
        "$$\n",
        "\n",
        "#### Exercício 02\n",
        "Implemente o cálculo da moda para o IMC nos dados do `healthcare-dataset-stroke-data.csv`. Algumas coisas que podem ser uteis:\n",
        "* O método `.cut` do pandas divide os em intervalos e classifica cada um dos itens.\n",
        "* O `.value_counts` constrói a tabela de frequência.\n",
        "* Os objetos utilizados são de uma classe chamada `Interval`, que tem métodos `left`\n",
        "e `right` que fornecem os limites inferior e superior, respectivamente, intervalo."
      ]
    },
    {
      "cell_type": "code",
      "execution_count": 182,
      "id": "873da65c-b854-4d56-827f-64c008567a4f",
      "metadata": {
        "colab": {
          "base_uri": "https://localhost:8080/",
          "height": 568
        },
        "id": "873da65c-b854-4d56-827f-64c008567a4f",
        "outputId": "d3f6b9d3-ef2b-438c-c73a-02a7b85e7c16"
      },
      "outputs": [],
      "source": [
        "import pandas as pd\n",
        "\n",
        "df = pd.read_csv(\"./dataset/healthcare-dataset-stroke-data.csv\")\n",
        "df['bmi'].fillna(0, inplace=True)\n",
        "df = df[df['bmi'] != 0]\n"
      ]
    },
    {
      "cell_type": "code",
      "execution_count": 183,
      "id": "dnAO-QJPdZ7u",
      "metadata": {
        "colab": {
          "base_uri": "https://localhost:8080/"
        },
        "id": "dnAO-QJPdZ7u",
        "outputId": "063371cd-f9dc-4997-b583-c5e7d9e487c6"
      },
      "outputs": [
        {
          "name": "stdout",
          "output_type": "stream",
          "text": [
            "A classe modal é: (19.03, 27.76]\n",
            "O ponto médio da classe modal é: 23.395000000000003\n"
          ]
        }
      ],
      "source": [
        "intervalos = pd.cut(df['bmi'], bins=10)\n",
        "\n",
        "tabela_frequencia = intervalos.value_counts()\n",
        "\n",
        "classe_modal = tabela_frequencia.idxmax()\n",
        "\n",
        "limite_inferior = classe_modal.left\n",
        "limite_superior = classe_modal.right\n",
        "ponto_medio_modal = (limite_inferior + limite_superior) / 2\n",
        "\n",
        "print(\"A classe modal é:\", classe_modal)\n",
        "print(\"O ponto médio da classe modal é:\", ponto_medio_modal)"
      ]
    },
    {
      "cell_type": "markdown",
      "id": "802cd425-0675-414c-ba95-630a552e5713",
      "metadata": {
        "id": "802cd425-0675-414c-ba95-630a552e5713"
      },
      "source": [
        "### Fórmulas de Czuber e King.\n",
        "\n",
        "Outras formas de definir a moda para dados agrupados são as\n",
        "fórmula de Czuber e de King. A fórmula de Czuber é dada por\n",
        "$$\n",
        "    \\mathcal{M}_o^C = \\mathcal{l}_{mo} + h_{mo}\n",
        "    \\left(\\frac{\\Delta_1}{\\Delta_1 + \\Delta_2}\\right)\n",
        "$$\n",
        "onde:\n",
        "* $\\mathcal{l}_{mo}$: limite inferior da classe modal\n",
        "* $h_{mo}$: amplitude da classe modal\n",
        "* $\\Delta_1 = n_{mo} - n_{ant}$, onde $n_{mo}$ e $n_{ant}$ são as frequências\n",
        "absolutas da classe modal e da classe anterior à classe modal, respectivamente.\n",
        "* $\\Delta_2 = n_{mo} - n_{pos}$, onde $n_{pos}$ é a freq.\n",
        "absoluta da classe posterior à classe modal.\n",
        "\n",
        "Enquanto a fórmula de King, bastante semelhante, é dada por\n",
        "Outra forma de definir a moda para dados agrupados é a\n",
        "fórmula de Czuber. A fórmula é dada por\n",
        "$$\n",
        "    \\mathcal{M}_o^C = \\mathcal{l}_{mo} + h_{mo}\n",
        "    \\left(\\frac{\\tilde{\\Delta}_1}{\\tilde{\\Delta}_1 + \\tilde{\\Delta}_2}\\right)\n",
        "$$\n",
        "onde $\\Delta_1 = n_{pos}$ e $\\Delta_2 = n_{ant}$.\n",
        "\n",
        "#### Exercício 04\n",
        "Implemente a fórmula de Czuber e King para calcular a moda dos dados do IMC."
      ]
    },
    {
      "cell_type": "code",
      "execution_count": 184,
      "id": "hEuNfASc0t38",
      "metadata": {
        "colab": {
          "base_uri": "https://localhost:8080/"
        },
        "id": "hEuNfASc0t38",
        "outputId": "f16d492b-9aaa-4ce2-d581-3417cb766c76"
      },
      "outputs": [
        {
          "name": "stdout",
          "output_type": "stream",
          "text": [
            "A moda pelo método de Czuber é: 26.96775761124122\n",
            "A moda pelo método de King é: 26.143770270270274\n"
          ]
        }
      ],
      "source": [
        "frequencia_modal = tabela_frequencia.max()\n",
        "frequencia_anterior = tabela_frequencia.get(limite_inferior - 1, default=0)\n",
        "frequencia_posterior = tabela_frequencia.get(limite_superior + 1, default=0)\n",
        "amplitude = limite_superior - limite_inferior\n",
        "\n",
        "def moda_czuber(limite_inferior, amplitude, frequencia_modal, frequencia_anterior, frequencia_posterior):\n",
        "    return limite_inferior + amplitude * ((frequencia_modal - frequencia_anterior) / ((frequencia_modal - frequencia_anterior) + (frequencia_modal - frequencia_posterior)))\n",
        "  \n",
        "def moda_king(limite_inferior, amplitude, frequencia_anterior, frequencia_posterior):\n",
        "    return limite_inferior + amplitude * ((frequencia_posterior) / ((frequencia_posterior) + (frequencia_anterior)))\n",
        "\n",
        "modaCzuber = moda_czuber(limite_inferior, amplitude, frequencia_modal, frequencia_anterior, frequencia_posterior)\n",
        "modaKing = moda_king(limite_inferior, amplitude, frequencia_anterior, frequencia_posterior)\n",
        "\n",
        "print(\"A moda pelo método de Czuber é:\", modaCzuber)\n",
        "print(\"A moda pelo método de King é:\", modaKing)"
      ]
    },
    {
      "cell_type": "markdown",
      "id": "63d01f6d",
      "metadata": {},
      "source": [
        "#### Exercício 05\n",
        "Pesquise sobre a fórmula de Pearson para o cálculo da moda e a implemente para\n",
        "calcular a moda do IMC."
      ]
    },
    {
      "cell_type": "code",
      "execution_count": 185,
      "id": "ifJg_wGnqJU1",
      "metadata": {
        "colab": {
          "base_uri": "https://localhost:8080/"
        },
        "id": "ifJg_wGnqJU1",
        "outputId": "d12853b3-3756-40e1-f75a-f4fe31277bc5"
      },
      "outputs": [
        {
          "name": "stdout",
          "output_type": "stream",
          "text": [
            "A moda pelo método de Pearson é: 26.513526176410686\n"
          ]
        }
      ],
      "source": [
        "#Mo = 3*mediana - 2*media\n",
        "modaPearson = 3*df['bmi'].median() - 2*df['bmi'].mean()\n",
        "print(\"A moda pelo método de Pearson é:\", modaPearson)"
      ]
    },
    {
      "cell_type": "markdown",
      "id": "350cc633-419a-4a81-a11a-0c2b2f69c25e",
      "metadata": {
        "id": "350cc633-419a-4a81-a11a-0c2b2f69c25e"
      },
      "source": [
        "## Simetria\n",
        "\n",
        "Observe os histogramas a seguir, eles apresentam uma clara distinção visual."
      ]
    },
    {
      "cell_type": "code",
      "execution_count": 186,
      "id": "c53bf9e3-72f6-4db7-ab9a-efcf847bc558",
      "metadata": {
        "id": "c53bf9e3-72f6-4db7-ab9a-efcf847bc558",
        "outputId": "79bfb04e-6cbd-4d03-f236-23b161e130a1"
      },
      "outputs": [
        {
          "data": {
            "text/plain": [
              "(array([  3.,   6.,  44., 110., 215., 242., 185., 133.,  49.,  13.]),\n",
              " array([-3.52586076, -2.88759401, -2.24932727, -1.61106052, -0.97279378,\n",
              "        -0.33452703,  0.30373972,  0.94200646,  1.58027321,  2.21853995,\n",
              "         2.8568067 ]),\n",
              " <BarContainer object of 10 artists>)"
            ]
          },
          "execution_count": 186,
          "metadata": {},
          "output_type": "execute_result"
        },
        {
          "data": {
            "image/png": "[encoded data removed]",
            "text/plain": [
              "<Figure size 640x480 with 3 Axes>"
            ]
          },
          "metadata": {},
          "output_type": "display_data"
        }
      ],
      "source": [
        "import pandas as pd\n",
        "import numpy as np\n",
        "import matplotlib.pyplot as plt\n",
        "\n",
        "fig, axs = plt.subplots(3,1)\n",
        "\n",
        "X = pd.Series(np.random.lognormal(0,.3,100))\n",
        "Xp = pd.Series(1-X)\n",
        "Xn = pd.Series(np.random.normal(0,1,1000))\n",
        "\n",
        "axs[0].hist(X, bins = 10, )\n",
        "axs[1].hist(Xp, bins = 10 ,)\n",
        "axs[2].hist(Xn, bins = 10 ,)"
      ]
    },
    {
      "cell_type": "markdown",
      "id": "03e2814e-abc5-4a7e-b844-5a84f137c880",
      "metadata": {
        "id": "03e2814e-abc5-4a7e-b844-5a84f137c880"
      },
      "source": [
        "### Exercício 5\n",
        "\n",
        "Pesquise sobre as medidas (coeficientes) de assimetria de Pearson e de Bowley e as implemente. Utilize para calcular os coeficientes de assimetria do IMC."
      ]
    },
    {
      "cell_type": "code",
      "execution_count": 187,
      "id": "06dbc697",
      "metadata": {},
      "outputs": [
        {
          "name": "stdout",
          "output_type": "stream",
          "text": [
            "O coeficiente de assimetria de Pearson é: 0.30299089851008837\n",
            "O coeficiente de assimetria de Bowley é: 0.04166666666666651\n"
          ]
        }
      ],
      "source": [
        "#coeficiente de assimetria de Pearson = 3*(media - mediana)/desvio_padrao\n",
        "coeficienteAssimetriaPearson = 3*(df['bmi'].mean() - df['bmi'].median())/df['bmi'].std()\n",
        "print(\"O coeficiente de assimetria de Pearson é:\", coeficienteAssimetriaPearson)\n",
        "\n",
        "#coeficiente de assimetria de Bowley = (Q3 + Q1 - 2*Q2)/(Q3 - Q1)\n",
        "Q1 = df['bmi'].quantile(0.25)\n",
        "Q2 = df['bmi'].quantile(0.5)\n",
        "Q3 = df['bmi'].quantile(0.75)\n",
        "coeficienteAssimetriaBowley = (Q3 + Q1 - 2*Q2)/(Q3 - Q1)\n",
        "print(\"O coeficiente de assimetria de Bowley é:\", coeficienteAssimetriaBowley)"
      ]
    }
  ],
  "metadata": {
    "colab": {
      "provenance": []
    },
    "kernelspec": {
      "display_name": "Python 3 (ipykernel)",
      "language": "python",
      "name": "python3"
    },
    "language_info": {
      "codemirror_mode": {
        "name": "ipython",
        "version": 3
      },
      "file_extension": ".py",
      "mimetype": "text/x-python",
      "name": "python",
      "nbconvert_exporter": "python",
      "pygments_lexer": "ipython3",
      "version": "3.11.5"
    }
  },
  "nbformat": 4,
  "nbformat_minor": 5
}
